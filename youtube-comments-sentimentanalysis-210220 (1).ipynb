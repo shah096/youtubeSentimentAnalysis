{
 "cells": [
  {
   "cell_type": "markdown",
   "metadata": {},
   "source": [
    "**Youtube Comments Sentiment Analysis**\n",
    "\n",
    "First of all thank you @gsc ankith for upload this dataset. Here I have tried to perform a very simple sentiment analysis using AFINN library"
   ]
  },
  {
   "cell_type": "code",
   "execution_count": 1,
   "metadata": {
    "colab": {},
    "colab_type": "code",
    "id": "n4DoiU3-2V6i"
   },
   "outputs": [
    {
     "name": "stdout",
     "output_type": "stream",
     "text": [
      "Collecting contractions\n",
      "  Downloading contractions-0.1.68-py2.py3-none-any.whl (8.1 kB)\n",
      "Collecting textsearch>=0.0.21\n",
      "  Downloading textsearch-0.0.21-py2.py3-none-any.whl (7.5 kB)\n",
      "Collecting pyahocorasick\n",
      "  Downloading pyahocorasick-1.4.4-cp38-cp38-win_amd64.whl (39 kB)\n",
      "Collecting anyascii\n",
      "  Downloading anyascii-0.3.1-py3-none-any.whl (287 kB)\n",
      "Installing collected packages: pyahocorasick, anyascii, textsearch, contractions\n",
      "Successfully installed anyascii-0.3.1 contractions-0.1.68 pyahocorasick-1.4.4 textsearch-0.0.21\n"
     ]
    }
   ],
   "source": [
    "#installing contractions library\n",
    "!pip install contractions"
   ]
  },
  {
   "cell_type": "code",
   "execution_count": 2,
   "metadata": {
    "colab": {},
    "colab_type": "code",
    "id": "0Px1s4ypx5b1"
   },
   "outputs": [],
   "source": [
    "#Generic Data Processing & Visualization Libraries\n",
    "import numpy as np\n",
    "import pandas as pd\n",
    "import seaborn as sns\n",
    "import matplotlib.pyplot as plt\n",
    "import re,string,unicodedata\n",
    "import contractions #import contractions_dict\n",
    "%matplotlib inline"
   ]
  },
  {
   "cell_type": "code",
   "execution_count": 42,
   "metadata": {
    "colab": {},
    "colab_type": "code",
    "id": "3c9WPiHLCJTX"
   },
   "outputs": [
    {
     "name": "stderr",
     "output_type": "stream",
     "text": [
      "[nltk_data] Downloading package wordnet to\n",
      "[nltk_data]     C:\\Users\\best\\AppData\\Roaming\\nltk_data...\n",
      "[nltk_data]   Package wordnet is already up-to-date!\n",
      "[nltk_data] Downloading package punkt to\n",
      "[nltk_data]     C:\\Users\\best\\AppData\\Roaming\\nltk_data...\n",
      "[nltk_data]   Package punkt is already up-to-date!\n",
      "[nltk_data] Downloading package stopwords to\n",
      "[nltk_data]     C:\\Users\\best\\AppData\\Roaming\\nltk_data...\n",
      "[nltk_data]   Package stopwords is already up-to-date!\n"
     ]
    },
    {
     "data": {
      "text/plain": [
       "True"
      ]
     },
     "execution_count": 42,
     "metadata": {},
     "output_type": "execute_result"
    }
   ],
   "source": [
    "#Importing text processing libraries\n",
    "import spacy\n",
    "import spacy.cli\n",
    "import nltk\n",
    "from nltk.tokenize.toktok import ToktokTokenizer\n",
    "from nltk.tokenize import word_tokenize\n",
    "from nltk.stem.lancaster import LancasterStemmer\n",
    "from nltk.stem.wordnet import WordNetLemmatizer\n",
    "from nltk.corpus import stopwords\n",
    "from sklearn.metrics import confusion_matrix, accuracy_score, roc_auc_score, roc_curve\n",
    "from sklearn.feature_extraction.text import CountVectorizer\n",
    "from nltk.tokenize import RegexpTokenizer\n",
    "from sklearn.feature_extraction.text import TfidfVectorizer\n",
    "from sklearn.metrics import classification_report\n",
    "\n",
    "\n",
    "from sklearn.model_selection import train_test_split\n",
    "from sklearn.naive_bayes import MultinomialNB\n",
    "from sklearn import svm\n",
    "from sklearn.tree import DecisionTreeClassifier \n",
    "from sklearn.linear_model import LogisticRegression\n",
    "\n",
    "#downloading wordnet/punkt dictionary\n",
    "nltk.download('wordnet')\n",
    "nltk.download('punkt')\n",
    "nltk.download('stopwords')"
   ]
  },
  {
   "cell_type": "code",
   "execution_count": 4,
   "metadata": {
    "colab": {},
    "colab_type": "code",
    "id": "KEPcX8TGL--i"
   },
   "outputs": [
    {
     "name": "stdout",
     "output_type": "stream",
     "text": [
      "Collecting afinn\n",
      "  Downloading afinn-0.1.tar.gz (52 kB)\n",
      "Building wheels for collected packages: afinn\n",
      "  Building wheel for afinn (setup.py): started\n",
      "  Building wheel for afinn (setup.py): finished with status 'done'\n",
      "  Created wheel for afinn: filename=afinn-0.1-py3-none-any.whl size=53448 sha256=43b658815078f4f148f37bb53dc7a861ac222e76c12b737d9e8c68b480af0623\n",
      "  Stored in directory: c:\\users\\best\\appdata\\local\\pip\\cache\\wheels\\f6\\6f\\c3\\b305c5107a17618f2938a067d5ffcbb556909d82398762089e\n",
      "Successfully built afinn\n",
      "Installing collected packages: afinn\n",
      "Successfully installed afinn-0.1\n"
     ]
    }
   ],
   "source": [
    "#Installing & Importing Sentiment Analysis Library  - AFINN\n",
    "!pip install afinn\n",
    "from afinn import Afinn"
   ]
  },
  {
   "cell_type": "code",
   "execution_count": 5,
   "metadata": {
    "colab": {},
    "colab_type": "code",
    "id": "3UxC52hzyWCV"
   },
   "outputs": [],
   "source": [
    "data = pd.read_csv(\"C:/Users/best/Downloads/youtube.csv\")"
   ]
  },
  {
   "cell_type": "markdown",
   "metadata": {
    "colab_type": "text",
    "id": "hS4AyA1Pyccq"
   },
   "source": [
    "**Data Exploration**"
   ]
  },
  {
   "cell_type": "code",
   "execution_count": 6,
   "metadata": {
    "colab": {
     "base_uri": "https://localhost:8080/",
     "height": 35
    },
    "colab_type": "code",
    "id": "2DMPQeXCyfcm",
    "outputId": "51cc25a9-4000-4e7d-f1dd-2d4ac0b847ec"
   },
   "outputs": [
    {
     "data": {
      "text/plain": [
       "(527, 2)"
      ]
     },
     "execution_count": 6,
     "metadata": {},
     "output_type": "execute_result"
    }
   ],
   "source": [
    "data.shape"
   ]
  },
  {
   "cell_type": "code",
   "execution_count": 7,
   "metadata": {
    "colab": {},
    "colab_type": "code",
    "id": "fVm8drm6yqV4"
   },
   "outputs": [
    {
     "data": {
      "text/plain": [
       "Comments    1\n",
       "label       0\n",
       "dtype: int64"
      ]
     },
     "execution_count": 7,
     "metadata": {},
     "output_type": "execute_result"
    }
   ],
   "source": [
    "#checking for null/missing values\n",
    "data.isna().sum()"
   ]
  },
  {
   "cell_type": "code",
   "execution_count": 8,
   "metadata": {
    "colab": {
     "base_uri": "https://localhost:8080/",
     "height": 35
    },
    "colab_type": "code",
    "id": "TLpbgO4VyyVC",
    "outputId": "127c24bd-3b4c-4546-feb4-cb43e3a96bdf"
   },
   "outputs": [
    {
     "data": {
      "text/plain": [
       "(526, 2)"
      ]
     },
     "execution_count": 8,
     "metadata": {},
     "output_type": "execute_result"
    }
   ],
   "source": [
    "#dropping the index with missing comments\n",
    "data = data.dropna()\n",
    "data.shape"
   ]
  },
  {
   "cell_type": "code",
   "execution_count": 9,
   "metadata": {
    "colab": {},
    "colab_type": "code",
    "id": "7UmFVUkQzNY5"
   },
   "outputs": [],
   "source": [
    "#creating a new column in the dataset for word count\n",
    "data ['word_count'] = data['Comments'].apply(lambda x:len(str(x).split(\" \")))"
   ]
  },
  {
   "cell_type": "code",
   "execution_count": 10,
   "metadata": {
    "colab": {},
    "colab_type": "code",
    "id": "VyJzKQVMy7Zy"
   },
   "outputs": [
    {
     "data": {
      "text/html": [
       "<div>\n",
       "<style scoped>\n",
       "    .dataframe tbody tr th:only-of-type {\n",
       "        vertical-align: middle;\n",
       "    }\n",
       "\n",
       "    .dataframe tbody tr th {\n",
       "        vertical-align: top;\n",
       "    }\n",
       "\n",
       "    .dataframe thead th {\n",
       "        text-align: right;\n",
       "    }\n",
       "</style>\n",
       "<table border=\"1\" class=\"dataframe\">\n",
       "  <thead>\n",
       "    <tr style=\"text-align: right;\">\n",
       "      <th></th>\n",
       "      <th>Comments</th>\n",
       "      <th>label</th>\n",
       "      <th>word_count</th>\n",
       "    </tr>\n",
       "  </thead>\n",
       "  <tbody>\n",
       "    <tr>\n",
       "      <th>0</th>\n",
       "      <td>How to stop the war Stop the media escalating it</td>\n",
       "      <td>1</td>\n",
       "      <td>10</td>\n",
       "    </tr>\n",
       "    <tr>\n",
       "      <th>1</th>\n",
       "      <td>WW1 : History Books WW2 : History Books WW3 : ...</td>\n",
       "      <td>1</td>\n",
       "      <td>12</td>\n",
       "    </tr>\n",
       "    <tr>\n",
       "      <th>2</th>\n",
       "      <td>Let the politicians go to war and soldiers tak...</td>\n",
       "      <td>1</td>\n",
       "      <td>12</td>\n",
       "    </tr>\n",
       "    <tr>\n",
       "      <th>3</th>\n",
       "      <td>We'll be praying for the peace of everyone.......</td>\n",
       "      <td>1</td>\n",
       "      <td>9</td>\n",
       "    </tr>\n",
       "    <tr>\n",
       "      <th>4</th>\n",
       "      <td>We are praying that this won't go too far. Ble...</td>\n",
       "      <td>1</td>\n",
       "      <td>14</td>\n",
       "    </tr>\n",
       "  </tbody>\n",
       "</table>\n",
       "</div>"
      ],
      "text/plain": [
       "                                            Comments  label  word_count\n",
       "0   How to stop the war Stop the media escalating it      1          10\n",
       "1  WW1 : History Books WW2 : History Books WW3 : ...      1          12\n",
       "2  Let the politicians go to war and soldiers tak...      1          12\n",
       "3  We'll be praying for the peace of everyone.......      1           9\n",
       "4  We are praying that this won't go too far. Ble...      1          14"
      ]
     },
     "execution_count": 10,
     "metadata": {},
     "output_type": "execute_result"
    }
   ],
   "source": [
    "data.head()"
   ]
  },
  {
   "cell_type": "code",
   "execution_count": 11,
   "metadata": {
    "colab": {},
    "colab_type": "code",
    "id": "NL7oOD_00aCs"
   },
   "outputs": [],
   "source": [
    "#taking a copy of the clean dataset\n",
    "data_clean = data.copy()"
   ]
  },
  {
   "cell_type": "markdown",
   "metadata": {
    "colab_type": "text",
    "id": "CQcKkCBPzuU0"
   },
   "source": [
    "**Data Preperation**"
   ]
  },
  {
   "cell_type": "code",
   "execution_count": 12,
   "metadata": {
    "colab": {},
    "colab_type": "code",
    "id": "_jBUtFUMzyrF"
   },
   "outputs": [],
   "source": [
    "#lowering cases\n",
    "data_clean['Comments'] = data_clean['Comments'].str.lower()"
   ]
  },
  {
   "cell_type": "code",
   "execution_count": 13,
   "metadata": {
    "colab": {},
    "colab_type": "code",
    "id": "QGkfjXtn0p5z"
   },
   "outputs": [],
   "source": [
    "#stripping leading spaces (if any)\n",
    "data_clean['Comments'] = data_clean['Comments'].str.strip()"
   ]
  },
  {
   "cell_type": "code",
   "execution_count": 14,
   "metadata": {
    "colab": {},
    "colab_type": "code",
    "id": "iJSNrfbm0ya2"
   },
   "outputs": [],
   "source": [
    "#removing punctuations\n",
    "from string import punctuation\n",
    "\n",
    "def remove_punct(text):\n",
    "  for punctuations in punctuation:\n",
    "    text = text.replace(punctuations, '')\n",
    "  return text\n",
    "\n",
    "#apply to the dataset\n",
    "data_clean['Comments'] = data_clean['Comments'].apply(remove_punct)"
   ]
  },
  {
   "cell_type": "code",
   "execution_count": 15,
   "metadata": {
    "colab": {},
    "colab_type": "code",
    "id": "x5oTjwFR1Pbm"
   },
   "outputs": [],
   "source": [
    "#function to remove special characters\n",
    "def remove_special_chars(text, remove_digits=True):\n",
    "  pattern = r'[^a-zA-z0-9\\s]'\n",
    "  text = re.sub(pattern, '', text)\n",
    "  return text\n",
    "\n",
    "#applying the function on the clean dataset\n",
    "data_clean['Comments'] = data_clean['Comments'].apply(remove_special_chars)"
   ]
  },
  {
   "cell_type": "code",
   "execution_count": 16,
   "metadata": {
    "colab": {},
    "colab_type": "code",
    "id": "KiJbzkNC1xwc"
   },
   "outputs": [],
   "source": [
    "#function to remove macrons & accented characters\n",
    "def remove_accented_chars(text):\n",
    "    text = unicodedata.normalize('NFKD', text).encode('ascii', 'ignore').decode('utf-8', 'ignore')\n",
    "    return text\n",
    "\n",
    "#applying the function on the clean dataset\n",
    "data_clean['Comments'] = data_clean['Comments'].apply(remove_accented_chars)  "
   ]
  },
  {
   "cell_type": "code",
   "execution_count": 17,
   "metadata": {
    "colab": {},
    "colab_type": "code",
    "id": "74vJ_uMI2DOQ"
   },
   "outputs": [],
   "source": [
    "#Function to expand contractions\n",
    "def expand_contractions(con_text):\n",
    "  con_text = contractions.fix(con_text)\n",
    "  return con_text\n",
    "\n",
    "#applying the function on the clean dataset\n",
    "data_clean['Comments'] = data_clean['Comments'].apply(expand_contractions)  "
   ]
  },
  {
   "cell_type": "code",
   "execution_count": 18,
   "metadata": {
    "colab": {
     "base_uri": "https://localhost:8080/",
     "height": 194
    },
    "colab_type": "code",
    "id": "VMqBdvnw1Ar0",
    "outputId": "ba5c3240-871a-492a-bab9-43146c4123c9"
   },
   "outputs": [
    {
     "data": {
      "text/html": [
       "<div>\n",
       "<style scoped>\n",
       "    .dataframe tbody tr th:only-of-type {\n",
       "        vertical-align: middle;\n",
       "    }\n",
       "\n",
       "    .dataframe tbody tr th {\n",
       "        vertical-align: top;\n",
       "    }\n",
       "\n",
       "    .dataframe thead th {\n",
       "        text-align: right;\n",
       "    }\n",
       "</style>\n",
       "<table border=\"1\" class=\"dataframe\">\n",
       "  <thead>\n",
       "    <tr style=\"text-align: right;\">\n",
       "      <th></th>\n",
       "      <th>Comments</th>\n",
       "      <th>label</th>\n",
       "      <th>word_count</th>\n",
       "    </tr>\n",
       "  </thead>\n",
       "  <tbody>\n",
       "    <tr>\n",
       "      <th>0</th>\n",
       "      <td>how to stop the war stop the media escalating it</td>\n",
       "      <td>1</td>\n",
       "      <td>10</td>\n",
       "    </tr>\n",
       "    <tr>\n",
       "      <th>1</th>\n",
       "      <td>ww1  history books ww2  history books ww3  you...</td>\n",
       "      <td>1</td>\n",
       "      <td>12</td>\n",
       "    </tr>\n",
       "    <tr>\n",
       "      <th>2</th>\n",
       "      <td>let the politicians go to war and soldiers tak...</td>\n",
       "      <td>1</td>\n",
       "      <td>12</td>\n",
       "    </tr>\n",
       "    <tr>\n",
       "      <th>3</th>\n",
       "      <td>well be praying for the peace of everyonefrom ...</td>\n",
       "      <td>1</td>\n",
       "      <td>9</td>\n",
       "    </tr>\n",
       "    <tr>\n",
       "      <th>4</th>\n",
       "      <td>we are praying that this will not go too far b...</td>\n",
       "      <td>1</td>\n",
       "      <td>14</td>\n",
       "    </tr>\n",
       "  </tbody>\n",
       "</table>\n",
       "</div>"
      ],
      "text/plain": [
       "                                            Comments  label  word_count\n",
       "0   how to stop the war stop the media escalating it      1          10\n",
       "1  ww1  history books ww2  history books ww3  you...      1          12\n",
       "2  let the politicians go to war and soldiers tak...      1          12\n",
       "3  well be praying for the peace of everyonefrom ...      1           9\n",
       "4  we are praying that this will not go too far b...      1          14"
      ]
     },
     "execution_count": 18,
     "metadata": {},
     "output_type": "execute_result"
    }
   ],
   "source": [
    "data_clean.head()"
   ]
  },
  {
   "cell_type": "code",
   "execution_count": 19,
   "metadata": {
    "colab": {},
    "colab_type": "code",
    "id": "4a5-mvJmBzOs"
   },
   "outputs": [],
   "source": [
    "#back up of the prepared data\n",
    "data_clean_bckup = data_clean.copy()"
   ]
  },
  {
   "cell_type": "markdown",
   "metadata": {
    "colab_type": "text",
    "id": "uf-UsZusCExx"
   },
   "source": [
    "**Text Processing/Normalization - Removing Stop Words**"
   ]
  },
  {
   "cell_type": "code",
   "execution_count": 20,
   "metadata": {
    "colab": {},
    "colab_type": "code",
    "id": "Xjpp0_sbC0Q8"
   },
   "outputs": [],
   "source": [
    "stopword_list = set(stopwords.words('english'))"
   ]
  },
  {
   "cell_type": "code",
   "execution_count": 21,
   "metadata": {
    "colab": {},
    "colab_type": "code",
    "id": "0MkP1KZDEXRg"
   },
   "outputs": [],
   "source": [
    "tokenizer = ToktokTokenizer()"
   ]
  },
  {
   "cell_type": "code",
   "execution_count": 22,
   "metadata": {
    "colab": {},
    "colab_type": "code",
    "id": "0WFiisrWDzIS"
   },
   "outputs": [],
   "source": [
    "#function to remove stopwords\n",
    "def remove_stopwords(text, is_lower_case=False):\n",
    "    tokens = tokenizer.tokenize(text)\n",
    "    tokens = [token.strip() for token in tokens]\n",
    "    if is_lower_case:\n",
    "        filtered_tokens = [token for token in tokens if token not in stopword_list]\n",
    "    else:\n",
    "        filtered_tokens = [token for token in tokens if token.lower() not in stopword_list]\n",
    "    filtered_text = ' '.join(filtered_tokens)    \n",
    "    return filtered_text\n",
    "\n",
    "#applying the function\n",
    "data_clean['Comments_Clean'] = data_clean['Comments'].apply(remove_stopwords)      "
   ]
  },
  {
   "cell_type": "markdown",
   "metadata": {
    "colab_type": "text",
    "id": "XSOVmCJ0FOmv"
   },
   "source": [
    "**Text Processing/Normalization - Stemming**\n",
    "\n",
    "applying the most simplest stemmer i.e. PorterStemmer"
   ]
  },
  {
   "cell_type": "code",
   "execution_count": 23,
   "metadata": {
    "colab": {},
    "colab_type": "code",
    "id": "S5aDVfblFUgf"
   },
   "outputs": [],
   "source": [
    "#Function for stemming\n",
    "def simple_stemmer(text):\n",
    "  ps = nltk.porter.PorterStemmer()\n",
    "  text = ' '.join([ps.stem(word) for word in text.split()])\n",
    "  return text\n",
    "\n",
    "#applying the function\n",
    "data_clean['Normalized_Comments'] = data_clean['Comments_Clean'].apply(simple_stemmer)\n"
   ]
  },
  {
   "cell_type": "code",
   "execution_count": 24,
   "metadata": {
    "colab": {},
    "colab_type": "code",
    "id": "pT40rR-fHZIX"
   },
   "outputs": [
    {
     "data": {
      "text/html": [
       "<div>\n",
       "<style scoped>\n",
       "    .dataframe tbody tr th:only-of-type {\n",
       "        vertical-align: middle;\n",
       "    }\n",
       "\n",
       "    .dataframe tbody tr th {\n",
       "        vertical-align: top;\n",
       "    }\n",
       "\n",
       "    .dataframe thead th {\n",
       "        text-align: right;\n",
       "    }\n",
       "</style>\n",
       "<table border=\"1\" class=\"dataframe\">\n",
       "  <thead>\n",
       "    <tr style=\"text-align: right;\">\n",
       "      <th></th>\n",
       "      <th>Comments</th>\n",
       "      <th>label</th>\n",
       "      <th>word_count</th>\n",
       "      <th>Normalized_Comments</th>\n",
       "    </tr>\n",
       "  </thead>\n",
       "  <tbody>\n",
       "    <tr>\n",
       "      <th>0</th>\n",
       "      <td>how to stop the war stop the media escalating it</td>\n",
       "      <td>1</td>\n",
       "      <td>10</td>\n",
       "      <td>stop war stop media escal</td>\n",
       "    </tr>\n",
       "    <tr>\n",
       "      <th>1</th>\n",
       "      <td>ww1  history books ww2  history books ww3  you...</td>\n",
       "      <td>1</td>\n",
       "      <td>12</td>\n",
       "      <td>ww1 histori book ww2 histori book ww3 youtub s...</td>\n",
       "    </tr>\n",
       "    <tr>\n",
       "      <th>2</th>\n",
       "      <td>let the politicians go to war and soldiers tak...</td>\n",
       "      <td>1</td>\n",
       "      <td>12</td>\n",
       "      <td>let politician go war soldier take rest time</td>\n",
       "    </tr>\n",
       "    <tr>\n",
       "      <th>3</th>\n",
       "      <td>well be praying for the peace of everyonefrom ...</td>\n",
       "      <td>1</td>\n",
       "      <td>9</td>\n",
       "      <td>well pray peac everyonefrom philippin</td>\n",
       "    </tr>\n",
       "    <tr>\n",
       "      <th>4</th>\n",
       "      <td>we are praying that this will not go too far b...</td>\n",
       "      <td>1</td>\n",
       "      <td>14</td>\n",
       "      <td>pray go far bless everyon hungari</td>\n",
       "    </tr>\n",
       "  </tbody>\n",
       "</table>\n",
       "</div>"
      ],
      "text/plain": [
       "                                            Comments  label  word_count  \\\n",
       "0   how to stop the war stop the media escalating it      1          10   \n",
       "1  ww1  history books ww2  history books ww3  you...      1          12   \n",
       "2  let the politicians go to war and soldiers tak...      1          12   \n",
       "3  well be praying for the peace of everyonefrom ...      1           9   \n",
       "4  we are praying that this will not go too far b...      1          14   \n",
       "\n",
       "                                 Normalized_Comments  \n",
       "0                          stop war stop media escal  \n",
       "1  ww1 histori book ww2 histori book ww3 youtub s...  \n",
       "2       let politician go war soldier take rest time  \n",
       "3              well pray peac everyonefrom philippin  \n",
       "4                  pray go far bless everyon hungari  "
      ]
     },
     "execution_count": 24,
     "metadata": {},
     "output_type": "execute_result"
    }
   ],
   "source": [
    "#dropping unwanted columns\n",
    "data_clean = data_clean.drop(columns=data_clean[['Comments_Clean']],axis=1)\n",
    "data_clean.head()"
   ]
  },
  {
   "cell_type": "code",
   "execution_count": 25,
   "metadata": {
    "colab": {},
    "colab_type": "code",
    "id": "Rv01XB90Km9s"
   },
   "outputs": [
    {
     "data": {
      "text/html": [
       "<div>\n",
       "<style scoped>\n",
       "    .dataframe tbody tr th:only-of-type {\n",
       "        vertical-align: middle;\n",
       "    }\n",
       "\n",
       "    .dataframe tbody tr th {\n",
       "        vertical-align: top;\n",
       "    }\n",
       "\n",
       "    .dataframe thead th {\n",
       "        text-align: right;\n",
       "    }\n",
       "</style>\n",
       "<table border=\"1\" class=\"dataframe\">\n",
       "  <thead>\n",
       "    <tr style=\"text-align: right;\">\n",
       "      <th></th>\n",
       "      <th>Comments</th>\n",
       "      <th>Normalized_Comments</th>\n",
       "      <th>word_count</th>\n",
       "      <th>label</th>\n",
       "    </tr>\n",
       "  </thead>\n",
       "  <tbody>\n",
       "    <tr>\n",
       "      <th>0</th>\n",
       "      <td>how to stop the war stop the media escalating it</td>\n",
       "      <td>stop war stop media escal</td>\n",
       "      <td>10</td>\n",
       "      <td>1</td>\n",
       "    </tr>\n",
       "    <tr>\n",
       "      <th>1</th>\n",
       "      <td>ww1  history books ww2  history books ww3  you...</td>\n",
       "      <td>ww1 histori book ww2 histori book ww3 youtub s...</td>\n",
       "      <td>12</td>\n",
       "      <td>1</td>\n",
       "    </tr>\n",
       "    <tr>\n",
       "      <th>2</th>\n",
       "      <td>let the politicians go to war and soldiers tak...</td>\n",
       "      <td>let politician go war soldier take rest time</td>\n",
       "      <td>12</td>\n",
       "      <td>1</td>\n",
       "    </tr>\n",
       "    <tr>\n",
       "      <th>3</th>\n",
       "      <td>well be praying for the peace of everyonefrom ...</td>\n",
       "      <td>well pray peac everyonefrom philippin</td>\n",
       "      <td>9</td>\n",
       "      <td>1</td>\n",
       "    </tr>\n",
       "    <tr>\n",
       "      <th>4</th>\n",
       "      <td>we are praying that this will not go too far b...</td>\n",
       "      <td>pray go far bless everyon hungari</td>\n",
       "      <td>14</td>\n",
       "      <td>1</td>\n",
       "    </tr>\n",
       "  </tbody>\n",
       "</table>\n",
       "</div>"
      ],
      "text/plain": [
       "                                            Comments  \\\n",
       "0   how to stop the war stop the media escalating it   \n",
       "1  ww1  history books ww2  history books ww3  you...   \n",
       "2  let the politicians go to war and soldiers tak...   \n",
       "3  well be praying for the peace of everyonefrom ...   \n",
       "4  we are praying that this will not go too far b...   \n",
       "\n",
       "                                 Normalized_Comments  word_count  label  \n",
       "0                          stop war stop media escal          10      1  \n",
       "1  ww1 histori book ww2 histori book ww3 youtub s...          12      1  \n",
       "2       let politician go war soldier take rest time          12      1  \n",
       "3              well pray peac everyonefrom philippin           9      1  \n",
       "4                  pray go far bless everyon hungari          14      1  "
      ]
     },
     "execution_count": 25,
     "metadata": {},
     "output_type": "execute_result"
    }
   ],
   "source": [
    "#rearranging columns\n",
    "data_clean = data_clean[['Comments','Normalized_Comments','word_count','label']]\n",
    "\n",
    "#taking backup \n",
    "data_clean_bckup_norm = data_clean.copy()\n",
    "\n",
    "data_clean.head()"
   ]
  },
  {
   "cell_type": "code",
   "execution_count": 32,
   "metadata": {},
   "outputs": [],
   "source": [
    "def afinn_sent_category(score):\n",
    "    categories = ['positive','negative']\n",
    "    if score == 0:\n",
    "        return categories[0]\n",
    "    elif score == 1:\n",
    "        return categories[1]\n",
    "       \n",
    "\n",
    "data_clean['category'] = [afinn_sent_category(scr) for scr in data_clean['label']]"
   ]
  },
  {
   "cell_type": "markdown",
   "metadata": {
    "colab_type": "text",
    "id": "vI0WMtu3Sed1"
   },
   "source": [
    "**Visualisation**"
   ]
  },
  {
   "cell_type": "code",
   "execution_count": 33,
   "metadata": {
    "colab": {
     "base_uri": "https://localhost:8080/",
     "height": 194
    },
    "colab_type": "code",
    "id": "gygLKKe2Ryfz",
    "outputId": "1cc4a8f0-256c-468a-f43c-44ba33734f5a"
   },
   "outputs": [
    {
     "data": {
      "text/html": [
       "<div>\n",
       "<style scoped>\n",
       "    .dataframe tbody tr th:only-of-type {\n",
       "        vertical-align: middle;\n",
       "    }\n",
       "\n",
       "    .dataframe tbody tr th {\n",
       "        vertical-align: top;\n",
       "    }\n",
       "\n",
       "    .dataframe thead th {\n",
       "        text-align: right;\n",
       "    }\n",
       "</style>\n",
       "<table border=\"1\" class=\"dataframe\">\n",
       "  <thead>\n",
       "    <tr style=\"text-align: right;\">\n",
       "      <th></th>\n",
       "      <th>Comments</th>\n",
       "      <th>Normalized_Comments</th>\n",
       "      <th>word_count</th>\n",
       "      <th>label</th>\n",
       "      <th>category</th>\n",
       "    </tr>\n",
       "  </thead>\n",
       "  <tbody>\n",
       "    <tr>\n",
       "      <th>0</th>\n",
       "      <td>how to stop the war stop the media escalating it</td>\n",
       "      <td>stop war stop media escal</td>\n",
       "      <td>10</td>\n",
       "      <td>1</td>\n",
       "      <td>negative</td>\n",
       "    </tr>\n",
       "    <tr>\n",
       "      <th>1</th>\n",
       "      <td>ww1  history books ww2  history books ww3  you...</td>\n",
       "      <td>ww1 histori book ww2 histori book ww3 youtub s...</td>\n",
       "      <td>12</td>\n",
       "      <td>1</td>\n",
       "      <td>negative</td>\n",
       "    </tr>\n",
       "    <tr>\n",
       "      <th>2</th>\n",
       "      <td>let the politicians go to war and soldiers tak...</td>\n",
       "      <td>let politician go war soldier take rest time</td>\n",
       "      <td>12</td>\n",
       "      <td>1</td>\n",
       "      <td>negative</td>\n",
       "    </tr>\n",
       "    <tr>\n",
       "      <th>3</th>\n",
       "      <td>well be praying for the peace of everyonefrom ...</td>\n",
       "      <td>well pray peac everyonefrom philippin</td>\n",
       "      <td>9</td>\n",
       "      <td>1</td>\n",
       "      <td>negative</td>\n",
       "    </tr>\n",
       "    <tr>\n",
       "      <th>4</th>\n",
       "      <td>we are praying that this will not go too far b...</td>\n",
       "      <td>pray go far bless everyon hungari</td>\n",
       "      <td>14</td>\n",
       "      <td>1</td>\n",
       "      <td>negative</td>\n",
       "    </tr>\n",
       "  </tbody>\n",
       "</table>\n",
       "</div>"
      ],
      "text/plain": [
       "                                            Comments  \\\n",
       "0   how to stop the war stop the media escalating it   \n",
       "1  ww1  history books ww2  history books ww3  you...   \n",
       "2  let the politicians go to war and soldiers tak...   \n",
       "3  well be praying for the peace of everyonefrom ...   \n",
       "4  we are praying that this will not go too far b...   \n",
       "\n",
       "                                 Normalized_Comments  word_count  label  \\\n",
       "0                          stop war stop media escal          10      1   \n",
       "1  ww1 histori book ww2 histori book ww3 youtub s...          12      1   \n",
       "2       let politician go war soldier take rest time          12      1   \n",
       "3              well pray peac everyonefrom philippin           9      1   \n",
       "4                  pray go far bless everyon hungari          14      1   \n",
       "\n",
       "   category  \n",
       "0  negative  \n",
       "1  negative  \n",
       "2  negative  \n",
       "3  negative  \n",
       "4  negative  "
      ]
     },
     "execution_count": 33,
     "metadata": {},
     "output_type": "execute_result"
    }
   ],
   "source": [
    "data_clean.head()"
   ]
  },
  {
   "cell_type": "code",
   "execution_count": 34,
   "metadata": {
    "colab": {
     "base_uri": "https://localhost:8080/",
     "height": 536
    },
    "colab_type": "code",
    "id": "WO6FFyI0S4Bv",
    "outputId": "8f4c7181-069a-47a0-8df6-7c9c6ca835ff"
   },
   "outputs": [
    {
     "data": {
      "text/plain": [
       "Text(0.5, 0, 'Sentiment Category')"
      ]
     },
     "execution_count": 34,
     "metadata": {},
     "output_type": "execute_result"
    },
    {
     "data": {
      "image/png": "[encoded data removed]",
      "text/plain": [
       "<Figure size 576x576 with 1 Axes>"
      ]
     },
     "metadata": {},
     "output_type": "display_data"
    }
   ],
   "source": [
    "sns.set(style=\"darkgrid\")\n",
    "fig, ax = plt.subplots(figsize=(8,8))\n",
    "ax = sns.countplot(x=\"label\", data=data_clean)\n",
    "plt.title('Sentiment Category Count Plot')\n",
    "plt.ylabel('Count')\n",
    "plt.xlabel('Sentiment Category')\n",
    "\n",
    "#ax.set_xticklabels(ax.get_xticklabels(),rotation=0)\n",
    "#i=0\n",
    "#for p in ax.patches:\n",
    "#    height = p.get_height()\n",
    "#    ax.text(p.get_x()+p.get_width()/2., height + 1,\n",
    "#        data_clean['afinn_sent_category'].value_counts()[i],ha=\"center\")\n",
    "#    i += 1"
   ]
  },
  {
   "cell_type": "code",
   "execution_count": 35,
   "metadata": {
    "colab": {
     "base_uri": "https://localhost:8080/",
     "height": 628
    },
    "colab_type": "code",
    "id": "hQUcya63VfD5",
    "outputId": "6851f5f9-ae27-45d6-f08e-0446b6c77dc4"
   },
   "outputs": [
    {
     "data": {
      "text/plain": [
       "<AxesSubplot:xlabel='label', ylabel='word_count'>"
      ]
     },
     "execution_count": 35,
     "metadata": {},
     "output_type": "execute_result"
    },
    {
     "data": {
      "image/png": "[encoded data removed]",
      "text/plain": [
       "<Figure size 1080x720 with 1 Axes>"
      ]
     },
     "metadata": {},
     "output_type": "display_data"
    }
   ],
   "source": [
    "sns.set(style=\"whitegrid\")\n",
    "f, ax = plt.subplots(figsize=(15, 10))\n",
    "sns.despine(f, left=True, bottom=True)\n",
    "sns.scatterplot(x=\"label\", y=\"word_count\", \n",
    "                hue=\"category\", \n",
    "                palette=\"ch:r=-.2,d=.3_r\", \n",
    "                sizes=(1,8), \n",
    "                data=data_clean, ax=ax)"
   ]
  },
  {
   "cell_type": "code",
   "execution_count": 38,
   "metadata": {},
   "outputs": [],
   "source": [
    "\n",
    "\n",
    "token = RegexpTokenizer(r'[a-zA-Z0-9]+')\n",
    "cv = CountVectorizer(lowercase=True,stop_words='english',ngram_range = (1,1),tokenizer = token.tokenize)\n",
    "text_counts= cv.fit_transform(data_clean['Normalized_Comments'])\n",
    "tf=TfidfVectorizer()\n",
    "text_tf= tf.fit_transform(data_clean['Normalized_Comments'])"
   ]
  },
  {
   "cell_type": "code",
   "execution_count": 39,
   "metadata": {},
   "outputs": [],
   "source": [
    "x=text_tf\n",
    "y=data_clean['label']\n",
    "x_train, x_test, y_train, y_test = train_test_split(x,y, test_size=0.1, random_state=1)"
   ]
  },
  {
   "cell_type": "code",
   "execution_count": 40,
   "metadata": {},
   "outputs": [
    {
     "name": "stdout",
     "output_type": "stream",
     "text": [
      "Confusion Matrix :\n",
      "[[29  0]\n",
      " [ 4 20]]\n"
     ]
    }
   ],
   "source": [
    "nb = MultinomialNB()\n",
    "nb.fit(x_train,y_train)\n",
    "preddt = nb.predict(x_test)\n",
    "print(\"Confusion Matrix :\")\n",
    "print(confusion_matrix(y_test,preddt))"
   ]
  },
  {
   "cell_type": "code",
   "execution_count": 43,
   "metadata": {},
   "outputs": [
    {
     "name": "stdout",
     "output_type": "stream",
     "text": [
      "Classification Report:\n",
      "              precision    recall  f1-score   support\n",
      "\n",
      "           0       0.88      1.00      0.94        29\n",
      "           1       1.00      0.83      0.91        24\n",
      "\n",
      "    accuracy                           0.92        53\n",
      "   macro avg       0.94      0.92      0.92        53\n",
      "weighted avg       0.93      0.92      0.92        53\n",
      "\n"
     ]
    }
   ],
   "source": [
    "print(\"Classification Report:\")\n",
    "print(classification_report(y_test,preddt))"
   ]
  },
  {
   "cell_type": "code",
   "execution_count": 44,
   "metadata": {},
   "outputs": [
    {
     "name": "stdout",
     "output_type": "stream",
     "text": [
      "Confusion Matrix \n",
      "[[21  8]\n",
      " [ 0 24]]\n"
     ]
    }
   ],
   "source": [
    "sv = svm.SVC()\n",
    "sv.fit(x_train,y_train)\n",
    "preddt = sv.predict(x_test)\n",
    "print(\"Confusion Matrix \")\n",
    "print(confusion_matrix(y_test,preddt))"
   ]
  },
  {
   "cell_type": "code",
   "execution_count": 45,
   "metadata": {},
   "outputs": [
    {
     "name": "stdout",
     "output_type": "stream",
     "text": [
      "Classification Report:\n",
      "              precision    recall  f1-score   support\n",
      "\n",
      "           0       1.00      0.72      0.84        29\n",
      "           1       0.75      1.00      0.86        24\n",
      "\n",
      "    accuracy                           0.85        53\n",
      "   macro avg       0.88      0.86      0.85        53\n",
      "weighted avg       0.89      0.85      0.85        53\n",
      "\n"
     ]
    }
   ],
   "source": [
    "print(\"Classification Report:\")\n",
    "print(classification_report(y_test,preddt))"
   ]
  },
  {
   "cell_type": "code",
   "execution_count": 46,
   "metadata": {},
   "outputs": [
    {
     "name": "stdout",
     "output_type": "stream",
     "text": [
      "Confusion Matrix \n",
      "[[29  0]\n",
      " [10 14]]\n"
     ]
    }
   ],
   "source": [
    "dt = DecisionTreeClassifier()\n",
    "dt.fit(x_train,y_train)\n",
    "preddt = dt.predict(x_test)\n",
    "print(\"Confusion Matrix \")\n",
    "print(confusion_matrix(y_test,preddt))"
   ]
  },
  {
   "cell_type": "code",
   "execution_count": 47,
   "metadata": {},
   "outputs": [
    {
     "name": "stdout",
     "output_type": "stream",
     "text": [
      "Classification Report:\n",
      "              precision    recall  f1-score   support\n",
      "\n",
      "           0       0.74      1.00      0.85        29\n",
      "           1       1.00      0.58      0.74        24\n",
      "\n",
      "    accuracy                           0.81        53\n",
      "   macro avg       0.87      0.79      0.79        53\n",
      "weighted avg       0.86      0.81      0.80        53\n",
      "\n"
     ]
    }
   ],
   "source": [
    "print(\"Classification Report:\")\n",
    "print(classification_report(y_test,preddt))"
   ]
  },
  {
   "cell_type": "code",
   "execution_count": 48,
   "metadata": {},
   "outputs": [
    {
     "name": "stdout",
     "output_type": "stream",
     "text": [
      "Confusion Matrix \n",
      "[[16 13]\n",
      " [ 1 23]]\n"
     ]
    }
   ],
   "source": [
    "lr=LogisticRegression()\n",
    "lr.fit(x_train,y_train)\n",
    "preddt = lr.predict(x_test)\n",
    "print(\"Confusion Matrix \")\n",
    "print(confusion_matrix(y_test,preddt))"
   ]
  },
  {
   "cell_type": "code",
   "execution_count": 49,
   "metadata": {},
   "outputs": [
    {
     "name": "stdout",
     "output_type": "stream",
     "text": [
      "Classification Report:\n",
      "              precision    recall  f1-score   support\n",
      "\n",
      "           0       0.94      0.55      0.70        29\n",
      "           1       0.64      0.96      0.77        24\n",
      "\n",
      "    accuracy                           0.74        53\n",
      "   macro avg       0.79      0.76      0.73        53\n",
      "weighted avg       0.80      0.74      0.73        53\n",
      "\n"
     ]
    }
   ],
   "source": [
    "print(\"Classification Report:\")\n",
    "print(classification_report(y_test,preddt))"
   ]
  },
  {
   "cell_type": "code",
   "execution_count": null,
   "metadata": {},
   "outputs": [],
   "source": []
  }
 ],
 "metadata": {
  "accelerator": "GPU",
  "colab": {
   "collapsed_sections": [],
   "name": "Youtube_Comments_SentimentAnalysis_210220.ipynb",
   "provenance": []
  },
  "kernelspec": {
   "display_name": "Python 3 (ipykernel)",
   "language": "python",
   "name": "python3"
  },
  "language_info": {
   "codemirror_mode": {
    "name": "ipython",
    "version": 3
   },
   "file_extension": ".py",
   "mimetype": "text/x-python",
   "name": "python",
   "nbconvert_exporter": "python",
   "pygments_lexer": "ipython3",
   "version": "3.8.5"
  }
 },
 "nbformat": 4,
 "nbformat_minor": 1
}
